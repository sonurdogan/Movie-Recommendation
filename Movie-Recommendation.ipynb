{
 "cells": [
  {
   "cell_type": "code",
   "execution_count": null,
   "id": "5481d381-ea10-4e4d-ab4a-7f65a543a9c2",
   "metadata": {},
   "outputs": [],
   "source": [
    "from pyspark.ml.recommendation import ALS\n",
    "from pyspark.sql import SparkSession\n",
    "from pyspark.ml.evaluation import RegressionEvaluator\n",
    "\n",
    "\n",
    "appName = \"Recommender system \"\n",
    "spark = SparkSession \\\n",
    "    .builder \\\n",
    "    .appName(appName) \\\n",
    "    .config(\"spark.some.config.option\", \"some-value\") \\\n",
    "    .getOrCreate()"
   ]
  },
  {
   "cell_type": "markdown",
   "id": "eae8621b-7207-456d-97cf-9e7bdb3d55c2",
   "metadata": {},
   "source": [
    "Movielens data consist of two data which are ratings and movies.\n",
    "In fallowing code lines, I have merged two data by movieId column and got one data:"
   ]
  },
  {
   "cell_type": "code",
   "execution_count": null,
   "id": "b062240a-1e75-4bc4-8543-a4418cb6f103",
   "metadata": {},
   "outputs": [],
   "source": [
    "ratings = spark.read.csv('ratings.csv', inferSchema=True, header=True)\n",
    "ratings.show(2)\n",
    "movies = spark.read.csv('movies.csv', inferSchema=True, header=True)\n",
    "movies.show(2)\n",
    "ratings=ratings.join(movies,\"movieId\")\n",
    "ratings.select(\"title\").show(2)"
   ]
  },
  {
   "cell_type": "code",
   "execution_count": null,
   "id": "6c13f7a7-5b86-4743-bcef-76ff681c2d09",
   "metadata": {},
   "outputs": [],
   "source": [
    "data = ratings.select(\"userId\", \"movieId\",\"title\", \"rating\")\n",
    "data.show(2)\n",
    "(train, test) = data.randomSplit([0.7, 0.3])"
   ]
  },
  {
   "cell_type": "markdown",
   "id": "429a4d3e-699d-49a7-a259-1ddbe25b9db1",
   "metadata": {},
   "source": [
    "In here, I defined our recommendation system algorithm as a ALS function, maximum number of iteration of the model is 10, reguralization paramater of the model is 0.01 then, fit the model."
   ]
  },
  {
   "cell_type": "code",
   "execution_count": null,
   "id": "0a4531ef-44bc-429e-96b6-e8647bbe3855",
   "metadata": {},
   "outputs": [],
   "source": [
    "als = ALS(maxIter=10, regParam=0.01, userCol=\"userId\", itemCol=\"movieId\", ratingCol=\"rating\",coldStartStrategy=\"drop\")\n",
    "model = als.fit(train)"
   ]
  },
  {
   "cell_type": "markdown",
   "id": "e47a43c2-1fb6-403f-a5a1-0ae5b1018531",
   "metadata": {},
   "source": [
    "In here, I tested our model and got predictions by test data"
   ]
  },
  {
   "cell_type": "code",
   "execution_count": null,
   "id": "7e6c5a86-a265-4933-9587-fd328a07601f",
   "metadata": {},
   "outputs": [],
   "source": [
    "print(\"Testing:\")\n",
    "prediction = model.transform(test)"
   ]
  },
  {
   "cell_type": "code",
   "execution_count": null,
   "id": "50715147-6f9b-45d1-9b6a-d84d744c6c53",
   "metadata": {},
   "outputs": [],
   "source": [
    "evaluator = RegressionEvaluator(metricName=\"rmse\", labelCol=\"rating\",\n",
    "                                predictionCol=\"prediction\")\n",
    "rmse = evaluator.evaluate(prediction)\n",
    "print(\"RMSE = \",rmse)"
   ]
  },
  {
   "cell_type": "markdown",
   "id": "5e9d7125-42f4-4aac-91e6-626209a4a8b6",
   "metadata": {},
   "source": [
    "I trained our model and checked the accuracy of the model.So, we can get movie recommendation by giving spesific user from our model.\n",
    "We can see the movie recommendation for user 46."
   ]
  },
  {
   "cell_type": "code",
   "execution_count": null,
   "id": "4e96a0c9-f948-4e39-9944-a2b6c008706d",
   "metadata": {},
   "outputs": [],
   "source": [
    "users = ratings.select(\"userId\").filter(ratings.userId==46)\n",
    "userSubsetRecs = model.recommendForUserSubset(users, 1)\n",
    "userSubsetRecs.show(1)"
   ]
  },
  {
   "cell_type": "markdown",
   "id": "6bb0e1b5-0486-4344-90de-3f0e911a3e57",
   "metadata": {},
   "source": [
    "Movie 501 recommended for user 46 with predicted rating 7.43. Also, We can  learn title of the recommended movie."
   ]
  },
  {
   "cell_type": "code",
   "execution_count": null,
   "id": "6778b3ef-9f32-47c5-84e2-587e008160ea",
   "metadata": {},
   "outputs": [],
   "source": [
    "data.select(\"title\",\"movieId\").filter(data.movieId==501).show(1)"
   ]
  }
 ],
 "metadata": {
  "kernelspec": {
   "display_name": "Python 3 (ipykernel)",
   "language": "python",
   "name": "python3"
  },
  "language_info": {
   "codemirror_mode": {
    "name": "ipython",
    "version": 3
   },
   "file_extension": ".py",
   "mimetype": "text/x-python",
   "name": "python",
   "nbconvert_exporter": "python",
   "pygments_lexer": "ipython3",
   "version": "3.8.3"
  }
 },
 "nbformat": 4,
 "nbformat_minor": 5
}
